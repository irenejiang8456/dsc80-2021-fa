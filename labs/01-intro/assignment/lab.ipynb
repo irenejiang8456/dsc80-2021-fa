{
 "cells": [
  {
   "cell_type": "code",
   "execution_count": 3,
   "metadata": {
    "deletable": false,
    "editable": false
   },
   "outputs": [],
   "source": [
    "# Initialize Otter\n",
    "import otter\n",
    "grader = otter.Notebook(\"lab.ipynb\")"
   ]
  },
  {
   "cell_type": "markdown",
   "metadata": {},
   "source": [
    "# DSC 80 - Lab 01\n",
    "\n",
    "### Due Date: Monday October 4, 11:59 PM"
   ]
  },
  {
   "cell_type": "code",
   "execution_count": 2,
   "metadata": {},
   "outputs": [
    {
     "name": "stdout",
     "output_type": "stream",
     "text": [
      "Collecting otter-grader\n",
      "  Using cached otter_grader-3.1.4-py3-none-any.whl (176 kB)\n",
      "Requirement already satisfied: pandas in d:\\program\\python\\anaconda\\lib\\site-packages (from otter-grader) (1.2.4)\n",
      "Collecting PyPDF2\n",
      "  Using cached PyPDF2-1.26.0.tar.gz (77 kB)\n",
      "Requirement already satisfied: jupyter-client in d:\\program\\python\\anaconda\\lib\\site-packages (from otter-grader) (6.1.12)\n",
      "Collecting pdfkit\n",
      "  Using cached pdfkit-0.6.1-py3-none-any.whl (12 kB)\n",
      "Requirement already satisfied: six in d:\\program\\python\\anaconda\\lib\\site-packages (from otter-grader) (1.15.0)\n",
      "Collecting google-auth-oauthlib\n",
      "  Using cached google_auth_oauthlib-0.4.6-py2.py3-none-any.whl (18 kB)\n",
      "Collecting gspread\n",
      "  Using cached gspread-4.0.1-py3-none-any.whl (29 kB)\n",
      "Requirement already satisfied: nbformat in d:\\program\\python\\anaconda\\lib\\site-packages (from otter-grader) (5.1.3)\n",
      "Requirement already satisfied: ipykernel in d:\\program\\python\\anaconda\\lib\\site-packages (from otter-grader) (5.3.4)\n",
      "Requirement already satisfied: PyYAML in d:\\program\\python\\anaconda\\lib\\site-packages (from otter-grader) (5.4.1)\n",
      "Requirement already satisfied: jinja2 in d:\\program\\python\\anaconda\\lib\\site-packages (from otter-grader) (2.11.3)\n",
      "Requirement already satisfied: requests in d:\\program\\python\\anaconda\\lib\\site-packages (from otter-grader) (2.25.1)\n",
      "Collecting dill\n",
      "  Using cached dill-0.3.4-py2.py3-none-any.whl (86 kB)\n",
      "Collecting google-api-python-client\n",
      "  Using cached google_api_python_client-2.23.0-py2.py3-none-any.whl (7.5 MB)\n",
      "Requirement already satisfied: matplotlib in d:\\program\\python\\anaconda\\lib\\site-packages (from otter-grader) (3.3.4)\n",
      "Requirement already satisfied: nbconvert in d:\\program\\python\\anaconda\\lib\\site-packages (from otter-grader) (6.0.7)\n",
      "Collecting python-on-whales\n",
      "  Using cached python_on_whales-0.26.0-py3-none-any.whl (86 kB)\n",
      "Collecting google-auth<3.0.0dev,>=1.16.0\n",
      "  Using cached google_auth-2.2.1-py2.py3-none-any.whl (153 kB)\n",
      "Collecting uritemplate<4dev,>=3.0.0\n",
      "  Using cached uritemplate-3.0.1-py2.py3-none-any.whl (15 kB)\n",
      "Collecting google-auth-httplib2>=0.1.0\n",
      "  Using cached google_auth_httplib2-0.1.0-py2.py3-none-any.whl (9.3 kB)\n",
      "Collecting httplib2<1dev,>=0.15.0\n",
      "  Using cached httplib2-0.19.1-py3-none-any.whl (95 kB)\n",
      "Collecting google-api-core<3.0.0dev,>=1.21.0\n",
      "  Using cached google_api_core-2.0.1-py2.py3-none-any.whl (92 kB)\n",
      "Collecting googleapis-common-protos<2.0dev,>=1.6.0\n",
      "  Using cached googleapis_common_protos-1.53.0-py2.py3-none-any.whl (198 kB)\n",
      "Collecting protobuf>=3.12.0\n",
      "  Downloading protobuf-3.18.0-cp38-cp38-win_amd64.whl (912 kB)\n",
      "Requirement already satisfied: setuptools>=40.3.0 in d:\\program\\python\\anaconda\\lib\\site-packages (from google-api-core<3.0.0dev,>=1.21.0->google-api-python-client->otter-grader) (52.0.0.post20210125)\n",
      "Collecting cachetools<5.0,>=2.0.0\n",
      "  Using cached cachetools-4.2.2-py3-none-any.whl (11 kB)\n",
      "Collecting rsa<5,>=3.1.4\n",
      "  Using cached rsa-4.7.2-py3-none-any.whl (34 kB)\n",
      "Collecting pyasn1-modules>=0.2.1\n",
      "  Using cached pyasn1_modules-0.2.8-py2.py3-none-any.whl (155 kB)\n",
      "Requirement already satisfied: pyparsing<3,>=2.4.2 in d:\\program\\python\\anaconda\\lib\\site-packages (from httplib2<1dev,>=0.15.0->google-api-python-client->otter-grader) (2.4.7)\n",
      "Collecting pyasn1<0.5.0,>=0.4.6\n",
      "  Using cached pyasn1-0.4.8-py2.py3-none-any.whl (77 kB)\n",
      "Requirement already satisfied: urllib3<1.27,>=1.21.1 in d:\\program\\python\\anaconda\\lib\\site-packages (from requests->otter-grader) (1.26.4)\n",
      "Requirement already satisfied: idna<3,>=2.5 in d:\\program\\python\\anaconda\\lib\\site-packages (from requests->otter-grader) (2.10)\n",
      "Requirement already satisfied: certifi>=2017.4.17 in d:\\program\\python\\anaconda\\lib\\site-packages (from requests->otter-grader) (2020.12.5)\n",
      "Requirement already satisfied: chardet<5,>=3.0.2 in d:\\program\\python\\anaconda\\lib\\site-packages (from requests->otter-grader) (4.0.0)\n",
      "Collecting requests-oauthlib>=0.7.0\n",
      "  Using cached requests_oauthlib-1.3.0-py2.py3-none-any.whl (23 kB)\n",
      "Collecting oauthlib>=3.0.0\n",
      "  Using cached oauthlib-3.1.1-py2.py3-none-any.whl (146 kB)\n",
      "Requirement already satisfied: ipython>=5.0.0 in d:\\program\\python\\anaconda\\lib\\site-packages (from ipykernel->otter-grader) (7.22.0)\n",
      "Requirement already satisfied: traitlets>=4.1.0 in d:\\program\\python\\anaconda\\lib\\site-packages (from ipykernel->otter-grader) (5.0.5)\n",
      "Requirement already satisfied: tornado>=4.2 in d:\\program\\python\\anaconda\\lib\\site-packages (from ipykernel->otter-grader) (6.1)\n",
      "Requirement already satisfied: pickleshare in d:\\program\\python\\anaconda\\lib\\site-packages (from ipython>=5.0.0->ipykernel->otter-grader) (0.7.5)\n",
      "Requirement already satisfied: pygments in d:\\program\\python\\anaconda\\lib\\site-packages (from ipython>=5.0.0->ipykernel->otter-grader) (2.8.1)\n",
      "Requirement already satisfied: decorator in d:\\program\\python\\anaconda\\lib\\site-packages (from ipython>=5.0.0->ipykernel->otter-grader) (5.0.6)\n",
      "Requirement already satisfied: colorama in d:\\program\\python\\anaconda\\lib\\site-packages (from ipython>=5.0.0->ipykernel->otter-grader) (0.4.4)\n",
      "Requirement already satisfied: backcall in d:\\program\\python\\anaconda\\lib\\site-packages (from ipython>=5.0.0->ipykernel->otter-grader) (0.2.0)\n",
      "Requirement already satisfied: prompt-toolkit!=3.0.0,!=3.0.1,<3.1.0,>=2.0.0 in d:\\program\\python\\anaconda\\lib\\site-packages (from ipython>=5.0.0->ipykernel->otter-grader) (3.0.17)\n",
      "Requirement already satisfied: jedi>=0.16 in d:\\program\\python\\anaconda\\lib\\site-packages (from ipython>=5.0.0->ipykernel->otter-grader) (0.17.2)\n",
      "Requirement already satisfied: parso<0.8.0,>=0.7.0 in d:\\program\\python\\anaconda\\lib\\site-packages (from jedi>=0.16->ipython>=5.0.0->ipykernel->otter-grader) (0.7.0)\n",
      "Requirement already satisfied: wcwidth in d:\\program\\python\\anaconda\\lib\\site-packages (from prompt-toolkit!=3.0.0,!=3.0.1,<3.1.0,>=2.0.0->ipython>=5.0.0->ipykernel->otter-grader) (0.2.5)\n",
      "Requirement already satisfied: ipython-genutils in d:\\program\\python\\anaconda\\lib\\site-packages (from traitlets>=4.1.0->ipykernel->otter-grader) (0.2.0)\n",
      "Requirement already satisfied: MarkupSafe>=0.23 in d:\\program\\python\\anaconda\\lib\\site-packages (from jinja2->otter-grader) (1.1.1)\n",
      "Requirement already satisfied: pyzmq>=13 in d:\\program\\python\\anaconda\\lib\\site-packages (from jupyter-client->otter-grader) (20.0.0)\n",
      "Requirement already satisfied: jupyter-core>=4.6.0 in d:\\program\\python\\anaconda\\lib\\site-packages (from jupyter-client->otter-grader) (4.7.1)\n",
      "Requirement already satisfied: python-dateutil>=2.1 in d:\\program\\python\\anaconda\\lib\\site-packages (from jupyter-client->otter-grader) (2.8.1)\n",
      "Requirement already satisfied: pywin32>=1.0 in d:\\program\\python\\anaconda\\lib\\site-packages (from jupyter-core>=4.6.0->jupyter-client->otter-grader) (227)\n",
      "Requirement already satisfied: cycler>=0.10 in d:\\program\\python\\anaconda\\lib\\site-packages (from matplotlib->otter-grader) (0.10.0)\n",
      "Requirement already satisfied: pillow>=6.2.0 in d:\\program\\python\\anaconda\\lib\\site-packages (from matplotlib->otter-grader) (8.2.0)\n",
      "Requirement already satisfied: numpy>=1.15 in d:\\program\\python\\anaconda\\lib\\site-packages (from matplotlib->otter-grader) (1.20.1)\n",
      "Requirement already satisfied: kiwisolver>=1.0.1 in d:\\program\\python\\anaconda\\lib\\site-packages (from matplotlib->otter-grader) (1.3.1)\n",
      "Requirement already satisfied: nbclient<0.6.0,>=0.5.0 in d:\\program\\python\\anaconda\\lib\\site-packages (from nbconvert->otter-grader) (0.5.3)\n",
      "Requirement already satisfied: mistune<2,>=0.8.1 in d:\\program\\python\\anaconda\\lib\\site-packages (from nbconvert->otter-grader) (0.8.4)\n",
      "Requirement already satisfied: jupyterlab-pygments in d:\\program\\python\\anaconda\\lib\\site-packages (from nbconvert->otter-grader) (0.1.2)\n",
      "Requirement already satisfied: bleach in d:\\program\\python\\anaconda\\lib\\site-packages (from nbconvert->otter-grader) (3.3.0)\n",
      "Requirement already satisfied: testpath in d:\\program\\python\\anaconda\\lib\\site-packages (from nbconvert->otter-grader) (0.4.4)\n",
      "Requirement already satisfied: entrypoints>=0.2.2 in d:\\program\\python\\anaconda\\lib\\site-packages (from nbconvert->otter-grader) (0.3)\n",
      "Requirement already satisfied: defusedxml in d:\\program\\python\\anaconda\\lib\\site-packages (from nbconvert->otter-grader) (0.7.1)\n",
      "Requirement already satisfied: pandocfilters>=1.4.1 in d:\\program\\python\\anaconda\\lib\\site-packages (from nbconvert->otter-grader) (1.4.3)\n",
      "Requirement already satisfied: nest-asyncio in d:\\program\\python\\anaconda\\lib\\site-packages (from nbclient<0.6.0,>=0.5.0->nbconvert->otter-grader) (1.5.1)\n",
      "Requirement already satisfied: async-generator in d:\\program\\python\\anaconda\\lib\\site-packages (from nbclient<0.6.0,>=0.5.0->nbconvert->otter-grader) (1.10)\n",
      "Requirement already satisfied: jsonschema!=2.5.0,>=2.4 in d:\\program\\python\\anaconda\\lib\\site-packages (from nbformat->otter-grader) (3.2.0)\n",
      "Requirement already satisfied: pyrsistent>=0.14.0 in d:\\program\\python\\anaconda\\lib\\site-packages (from jsonschema!=2.5.0,>=2.4->nbformat->otter-grader) (0.17.3)\n",
      "Requirement already satisfied: attrs>=17.4.0 in d:\\program\\python\\anaconda\\lib\\site-packages (from jsonschema!=2.5.0,>=2.4->nbformat->otter-grader) (20.3.0)\n",
      "Requirement already satisfied: webencodings in d:\\program\\python\\anaconda\\lib\\site-packages (from bleach->nbconvert->otter-grader) (0.5.1)\n",
      "Requirement already satisfied: packaging in d:\\program\\python\\anaconda\\lib\\site-packages (from bleach->nbconvert->otter-grader) (20.9)\n",
      "Requirement already satisfied: pytz>=2017.3 in d:\\program\\python\\anaconda\\lib\\site-packages (from pandas->otter-grader) (2021.1)\n"
     ]
    },
    {
     "name": "stdout",
     "output_type": "stream",
     "text": [
      "Requirement already satisfied: tqdm in d:\\program\\python\\anaconda\\lib\\site-packages (from python-on-whales->otter-grader) (4.59.0)\n",
      "Collecting typer\n",
      "  Using cached typer-0.4.0-py3-none-any.whl (27 kB)\n",
      "Collecting pydantic\n",
      "  Downloading pydantic-1.8.2-cp38-cp38-win_amd64.whl (2.0 MB)\n",
      "Requirement already satisfied: typing-extensions>=3.7.4.3 in d:\\program\\python\\anaconda\\lib\\site-packages (from pydantic->python-on-whales->otter-grader) (3.7.4.3)\n",
      "Requirement already satisfied: click<9.0.0,>=7.1.1 in d:\\program\\python\\anaconda\\lib\\site-packages (from typer->python-on-whales->otter-grader) (7.1.2)\n",
      "Building wheels for collected packages: PyPDF2\n",
      "  Building wheel for PyPDF2 (setup.py): started\n",
      "  Building wheel for PyPDF2 (setup.py): finished with status 'done'\n",
      "  Created wheel for PyPDF2: filename=PyPDF2-1.26.0-py3-none-any.whl size=61085 sha256=ba7050b32221c3752b97c432f317306829c99067b712f4ca88f12ad72a22c178\n",
      "  Stored in directory: c:\\users\\17147\\appdata\\local\\pip\\cache\\wheels\\b1\\1a\\8f\\a4c34be976825a2f7948d0fa40907598d69834f8ab5889de11\n",
      "Successfully built PyPDF2\n",
      "Installing collected packages: pyasn1, rsa, pyasn1-modules, protobuf, oauthlib, cachetools, requests-oauthlib, httplib2, googleapis-common-protos, google-auth, uritemplate, typer, pydantic, google-auth-oauthlib, google-auth-httplib2, google-api-core, python-on-whales, PyPDF2, pdfkit, gspread, google-api-python-client, dill, otter-grader\n",
      "Successfully installed PyPDF2-1.26.0 cachetools-4.2.2 dill-0.3.4 google-api-core-2.0.1 google-api-python-client-2.23.0 google-auth-2.2.1 google-auth-httplib2-0.1.0 google-auth-oauthlib-0.4.6 googleapis-common-protos-1.53.0 gspread-4.0.1 httplib2-0.19.1 oauthlib-3.1.1 otter-grader-3.1.4 pdfkit-0.6.1 protobuf-3.18.0 pyasn1-0.4.8 pyasn1-modules-0.2.8 pydantic-1.8.2 python-on-whales-0.26.0 requests-oauthlib-1.3.0 rsa-4.7.2 typer-0.4.0 uritemplate-3.0.1\n"
     ]
    }
   ],
   "source": [
    "!pip install otter-grader"
   ]
  },
  {
   "cell_type": "markdown",
   "metadata": {},
   "source": [
    "## Instructions\n",
    "Much like in DSC 10, this Jupyter Notebook contains the statements of the problems and provides code and markdown cells to display your answers to the problems. Unlike DSC 10, the notebook is *only* for displaying a readable version of your final answers. The coding will be done in an accompanying `lab.py` file that is imported into the current notebook.\n",
    "\n",
    "Labs and programming assignments will be graded in (at most) two ways:\n",
    "1. The functions and classes in the accompanying python file will be tested (a la DSC 20),\n",
    "2. The notebook may be graded (if it contains free response questions or asks you to draw plots).\n",
    "\n",
    "**Note**: Labs will have public tests and private tests. The public \"smoke tests\" that you will run below and which appear on Gradescope are generally worth no points. After the due date, we will replace these tests with private tests that will determine your grade. This is different from DSC 10, where labs only had public tests!\n",
    "\n",
    "**Do not change the function names in the `*.py` file**\n",
    "- The functions in the `*.py` file are how your assignment is graded, and they are graded by their name.\n",
    "- If you changed something you weren't supposed to, just use git to revert! Ask us if you need help with this, or google around for `git revert`.\n",
    "\n",
    "**Tips for working in the Notebook**:\n",
    "- The notebooks serve to present the questions and give you a place to present your results for later review.\n",
    "- The notebook on *lab assignments* are not graded (only the `.py` file).\n",
    "- Notebooks for *projects* will serve as a final report for the assignment, and contain conclusions and answers to open ended questions that are graded.\n",
    "- The notebook serves as a nice environment for 'pre-development' and experimentation before designing your function in your `.py` file. You can write code here, but make sure that all of your real work is in the .py file.\n",
    "\n",
    "**Tips for developing in the .py file**:\n",
    "- Do not change the function names in the starter code; grading is done using these function names.\n",
    "- Do not change the docstrings in the functions. These are there to tell you if your work is on the right track!\n",
    "- You are encouraged to write your own additional helper functions to solve the lab! \n",
    "    - Developing in python usually consists of larger files, with many short functions.\n",
    "    - You may write your other functions in an additional `.py` file that you import in `lab.py` (much like we do in the notebook).\n",
    "- Always document your code!"
   ]
  },
  {
   "cell_type": "markdown",
   "metadata": {},
   "source": [
    "### Importing code from `lab.py`\n",
    "\n",
    "* We import our `.py` file that's contained in the same directory as this notebook.\n",
    "* We use the `autoreload` notebook extension to make changes to our `lab.py` file immediately available in our notebook. Without this extension, we would need to restart the notebook kernel to see any changes to `lab.py` in the notebook.\n",
    "    - `autoreload` is necessary because, upon import, `lab.py` is compiled to bytecode (in the directory `__pycache__`). Subsequent imports of `lab` merely import the existing compiled python."
   ]
  },
  {
   "cell_type": "code",
   "execution_count": 4,
   "metadata": {},
   "outputs": [],
   "source": [
    "%load_ext autoreload\n",
    "%autoreload 2"
   ]
  },
  {
   "cell_type": "code",
   "execution_count": 5,
   "metadata": {},
   "outputs": [],
   "source": [
    "from lab import *"
   ]
  },
  {
   "cell_type": "code",
   "execution_count": 6,
   "metadata": {},
   "outputs": [],
   "source": [
    "import os\n",
    "import io\n",
    "import pandas as pd\n",
    "import numpy as np"
   ]
  },
  {
   "cell_type": "markdown",
   "metadata": {},
   "source": [
    "## Part 1: Python Basics"
   ]
  },
  {
   "cell_type": "markdown",
   "metadata": {},
   "source": [
    "**Question 0:**\n",
    "\n",
    "Write a function that takes in a possibly empty list of integers and:\n",
    "* Returns `True` if there exist two adjacent list elements that are consecutive integers.\n",
    "* Otherwise, returns `False`.\n",
    "\n",
    "For example, because `9` is next to `8`:\n",
    "```\n",
    ">>> consecutive_ints([5,3,6,4,9,8])\n",
    "True\n",
    "```\n",
    "Whereas:\n",
    "```\n",
    ">>> consecutive_ints([1,3,5,7,9])\n",
    "False\n",
    "```\n",
    "\n",
    "*Note*: If you look at `lab.py`, you'll notice that the solution to this problem is already there. This question is done for you to show you what a completed homework problem looks like."
   ]
  },
  {
   "cell_type": "code",
   "execution_count": 6,
   "metadata": {
    "tags": []
   },
   "outputs": [],
   "source": [
    "# these cells are here for you to write scratch work in; you should write the code\n",
    "# for your answer in the .py file\n"
   ]
  },
  {
   "cell_type": "code",
   "execution_count": 7,
   "metadata": {
    "tags": []
   },
   "outputs": [],
   "source": [
    "def consecutive_ints(ints):\n",
    "    \"\"\"\n",
    "    consecutive_ints tests whether a list contains two \n",
    "    adjacent elements that are consecutive integers.\n",
    "    :param ints: a list of integers\n",
    "    :returns: a boolean value if ints contains two \n",
    "    adjacent elements that are consecutive integers.\n",
    "    :Example:\n",
    "    >>> consecutive_ints([5,3,6,4,9,8])\n",
    "    True\n",
    "    >>> consecutive_ints([1,3,5,7,9])\n",
    "    False\n",
    "    \"\"\"\n",
    "\n",
    "    if len(ints) == 0:\n",
    "        return False\n",
    "\n",
    "    for k in range(len(ints) - 1):\n",
    "        diff = abs(ints[k] - ints[k+1])\n",
    "        if diff == 1:\n",
    "            return True\n",
    "\n",
    "    return False\n"
   ]
  },
  {
   "cell_type": "code",
   "execution_count": null,
   "metadata": {
    "tags": []
   },
   "outputs": [],
   "source": []
  },
  {
   "cell_type": "markdown",
   "metadata": {},
   "source": [
    "There are two ways to test your code:\n",
    "\n",
    "1. Run the cell below to test your code. You should also try writing some of your own tests by calling your functions on different inputs. Does it work for corner cases? Real-world data is **very messy** and you should expect your data processing code to break without thorough testing!\n",
    "2. Run doctests on `lab.py` by running the following command on the commandline:\n",
    "```\n",
    "python -m doctest lab.py\n",
    "```\n",
    "If the doctests pass, then there should be *no* output.\n",
    "\n",
    "The tests below *include* the doctests, so you do not need to run both. You may find it more convenient to run the doctests on the command line or from your IDE."
   ]
  },
  {
   "cell_type": "code",
   "execution_count": 8,
   "metadata": {
    "deletable": false,
    "editable": false
   },
   "outputs": [
    {
     "data": {
      "text/html": [
       "<p><strong><pre style='display: inline;'>q0</pre></strong> passed!</p>"
      ],
      "text/plain": [
       "q0 results: All test cases passed!"
      ]
     },
     "execution_count": 8,
     "metadata": {},
     "output_type": "execute_result"
    }
   ],
   "source": [
    "grader.check(\"q0\")"
   ]
  },
  {
   "cell_type": "code",
   "execution_count": 9,
   "metadata": {},
   "outputs": [
    {
     "data": {
      "text/plain": [
       "True"
      ]
     },
     "execution_count": 9,
     "metadata": {},
     "output_type": "execute_result"
    }
   ],
   "source": [
    "consecutive_ints([5,3,6,4,9,8])"
   ]
  },
  {
   "cell_type": "markdown",
   "metadata": {},
   "source": [
    "**Question 1 (median and average):**\n",
    "\n",
    "Write a function called *median_vs_average* that takes a non-empty list of numbers and returns True if median is greater or equal than average and False otherwise. \n",
    "\n",
    "To find median: If the list has even length, it should calculate the mean of the two elements in the middle. Do not use any imported libraries for this question; you may use any built-in function.\n"
   ]
  },
  {
   "cell_type": "code",
   "execution_count": 10,
   "metadata": {},
   "outputs": [],
   "source": [
    "def median_vs_average(nums):\n",
    "    '''\n",
    "    median takes a non-empty list of numbers,\n",
    "    returning a boolean of whether the median is\n",
    "    greater or equal than the average\n",
    "    If the list has even length, it should return\n",
    "    the mean of the two elements in the middle.\n",
    "    :param nums: a non-empty list of numbers.\n",
    "    :returns: bool, whether median is greater or equal than average.\n",
    "\n",
    "    :Example:\n",
    "    >>> median_vs_average([6, 5, 4, 3, 2])\n",
    "    True\n",
    "    >>> median_vs_average([50, 20, 15, 40])\n",
    "    False\n",
    "    >>> median_vs_average([1, 2, 3, 4])\n",
    "    True\n",
    "    '''\n",
    "    nums = sorted(nums)\n",
    "    if len(nums)%2==0:\n",
    "        median=(nums[len(nums)//2]+nums[len(nums)//2-1])/2\n",
    "    else:\n",
    "        median = nums[len(nums) // 2]\n",
    "    mean=sum(nums)/len(nums)\n",
    "    return median>=mean\n",
    "    "
   ]
  },
  {
   "cell_type": "code",
   "execution_count": 11,
   "metadata": {},
   "outputs": [
    {
     "data": {
      "text/plain": [
       "True"
      ]
     },
     "execution_count": 11,
     "metadata": {},
     "output_type": "execute_result"
    }
   ],
   "source": [
    "median_vs_average([0,1,2,3])"
   ]
  },
  {
   "cell_type": "code",
   "execution_count": 12,
   "metadata": {
    "deletable": false,
    "editable": false
   },
   "outputs": [
    {
     "data": {
      "text/html": [
       "<p><strong><pre style='display: inline;'>q1</pre></strong> passed!</p>"
      ],
      "text/plain": [
       "q1 results: All test cases passed!"
      ]
     },
     "execution_count": 12,
     "metadata": {},
     "output_type": "execute_result"
    }
   ],
   "source": [
    "grader.check(\"q1\")"
   ]
  },
  {
   "cell_type": "markdown",
   "metadata": {},
   "source": [
    "**Question 2 (List Distances):**\n",
    "\n",
    "Similar to Question 0, write a function that takes in a possibly empty list of integers and:\n",
    "* Returns `True` if there exist two list elements $i$ places apart, whose distance as integers is also $i$.\n",
    "* Otherwise, returns `False`.\n",
    "\n",
    "Assume your inputs tend to satisfy the condition, and the pair(s) saitifying the condition tend to be close together; design your function to run faster for this case. (Optimizing your code for an assumed distribution of incoming data is very common in data science).\n",
    "\n",
    "For example, because `3` and (the second) `5` are two places apart, and $|3-5| = 2$:\n",
    "```\n",
    ">>> same_diff_ints([5,3,1,5,9,8])\n",
    "True\n",
    "```\n",
    "Whereas:\n",
    "```\n",
    ">>> same_diff_ints([1,3,5,7,9])\n",
    "False\n",
    "```\n",
    "\n",
    "*Note*: Make sure to define some extreme test cases. Use the `%time` command to time your function!"
   ]
  },
  {
   "cell_type": "code",
   "execution_count": 14,
   "metadata": {
    "tags": []
   },
   "outputs": [],
   "source": [
    "def same_diff_ints(ints):\n",
    "    \"\"\"\n",
    "    same_diff_ints tests whether a list contains\n",
    "    two list elements i places apart, whose distance \n",
    "    as integers is also i.\n",
    "    :param ints: a list of integers\n",
    "    :returns: a boolean value if ints contains two \n",
    "    elements as described above.\n",
    "    :Example:\n",
    "    >>> same_diff_ints([5,3,1,5,9,8])\n",
    "    True\n",
    "    >>> same_diff_ints([1,3,5,7,9])\n",
    "    False\n",
    "    \"\"\"\n",
    "    if len(ints) == 0:\n",
    "        return False\n",
    "\n",
    "    for i in range(len(ints)):\n",
    "        for j in range(i + 1, len(ints)):\n",
    "            dist = j - i\n",
    "            diff = abs(ints[i] - ints[j])\n",
    "            if diff == dist:\n",
    "                return True\n",
    "\n",
    "    return False"
   ]
  },
  {
   "cell_type": "code",
   "execution_count": null,
   "metadata": {
    "tags": []
   },
   "outputs": [],
   "source": []
  },
  {
   "cell_type": "code",
   "execution_count": 15,
   "metadata": {},
   "outputs": [
    {
     "name": "stdout",
     "output_type": "stream",
     "text": [
      "Wall time: 0 ns\n"
     ]
    },
    {
     "data": {
      "text/plain": [
       "True"
      ]
     },
     "execution_count": 15,
     "metadata": {},
     "output_type": "execute_result"
    }
   ],
   "source": [
    "%%time\n",
    "# time your function\n",
    "same_diff_ints([5,3,1,5,9,8])"
   ]
  },
  {
   "cell_type": "code",
   "execution_count": 16,
   "metadata": {
    "deletable": false,
    "editable": false
   },
   "outputs": [
    {
     "data": {
      "text/html": [
       "<p><strong><pre style='display: inline;'>q2</pre></strong> passed!</p>"
      ],
      "text/plain": [
       "q2 results: All test cases passed!"
      ]
     },
     "execution_count": 16,
     "metadata": {},
     "output_type": "execute_result"
    }
   ],
   "source": [
    "grader.check(\"q2\")"
   ]
  },
  {
   "cell_type": "markdown",
   "metadata": {},
   "source": [
    "## Part 2: Strings and Files\n",
    "\n",
    "The following questions will help you (re)learn the basics of working with strings and reading data from files (which are read in as strings, by default)."
   ]
  },
  {
   "cell_type": "markdown",
   "metadata": {},
   "source": [
    "**Question 3 (N Prefixes):**\n",
    "\n",
    "Write a function `n_prefixes` that takes a string and a positive interger `n`. It returns a string of the first `n` number consecutive prefixes of the input string in reverse order. For example, `n_prefixes('Data!', 3)` should return `'DatDaD'`.  (See the doctests for more examples).\n",
    "\n",
    "Recall that [strings may be sliced](https://docs.python.org/3/tutorial/introduction.html#strings), like lists.\n"
   ]
  },
  {
   "cell_type": "code",
   "execution_count": 17,
   "metadata": {
    "tags": []
   },
   "outputs": [],
   "source": [
    "def n_prefixes(s, n):\n",
    "    \"\"\"\n",
    "    n_prefixes returns a string of n\n",
    "    consecutive prefix of the input string.\n",
    "\n",
    "    :param s: a string.\n",
    "    :param n: an integer\n",
    "\n",
    "    :returns: a string of n consecutive prefixes of s backwards.\n",
    "    :Example:\n",
    "    >>> n_prefixes('Data!', 3)\n",
    "    'DatDaD'\n",
    "    >>> n_prefixes('Marina', 4)\n",
    "    'MariMarMaM'\n",
    "    >>> n_prefixes('aaron', 2)\n",
    "    'aaa'\n",
    "    \"\"\"\n",
    "    if len(s) == 0:\n",
    "        return \"\"\n",
    "    if n == 0:\n",
    "        return \"\"\n",
    "    return s[:n] + n_prefixes(s, n - 1)"
   ]
  },
  {
   "cell_type": "code",
   "execution_count": null,
   "metadata": {
    "tags": []
   },
   "outputs": [],
   "source": []
  },
  {
   "cell_type": "code",
   "execution_count": 18,
   "metadata": {
    "deletable": false,
    "editable": false
   },
   "outputs": [
    {
     "data": {
      "text/html": [
       "<p><strong><pre style='display: inline;'>q3</pre></strong> passed!</p>"
      ],
      "text/plain": [
       "q3 results: All test cases passed!"
      ]
     },
     "execution_count": 18,
     "metadata": {},
     "output_type": "execute_result"
    }
   ],
   "source": [
    "grader.check(\"q3\")"
   ]
  },
  {
   "cell_type": "markdown",
   "metadata": {},
   "source": [
    "**Question 4 (Exploded numbers):**  \n",
    "\n",
    "Write a function `exploded_numbers` that takes in a list of integers and a non-negative integer $N$ and returns a list of strings containing numbers from the list expanded by N digits to both directions, separated by spaces.\n",
    "\n",
    "Additionally, [zero pad](https://www.tutorialspoint.com/python/string_zfill.htm) each integer, so that each has the same length.\n",
    "\n",
    "For example:\n",
    "\n",
    "```\n",
    ">>> exploded_numbers([3, 4], 2)\n",
    "['1 2 3 4 5', '2 3 4 5 6']\n",
    ">>> exploded_numbers([3, 8, 15], 2)\n",
    "['01 02 03 04 05', '06 07 08 09 10', '13 14 15 16 17']\n",
    "```\n",
    "\n",
    "**Note**: you can assume that negative numbers will never be encountered. That is, when testing your code, we will never explode a number so much that it goes negative."
   ]
  },
  {
   "cell_type": "code",
   "execution_count": 19,
   "metadata": {
    "tags": []
   },
   "outputs": [],
   "source": [
    "def exploded_numbers(ints, n):\n",
    "    \"\"\"\n",
    "    exploded_numbers returns a list of strings of numbers from the\n",
    "    input array each exploded by n.\n",
    "    Each integer is zero padded.\n",
    "\n",
    "    :param ints: a list of integers.\n",
    "    :param n: a non-negative integer.\n",
    "\n",
    "    :returns: a list of strings of exploded numbers. \n",
    "    :Example:\n",
    "    >>> exploded_numbers([3, 4], 2) \n",
    "    ['1 2 3 4 5', '2 3 4 5 6']\n",
    "    >>> exploded_numbers([3, 8, 15], 2)\n",
    "    ['01 02 03 04 05', '06 07 08 09 10', '13 14 15 16 17']\n",
    "    \"\"\"\n",
    "    max_len=len(str(max(ints)+n))\n",
    "    result=[]\n",
    "    for i in ints:\n",
    "        lst=[]\n",
    "        for j in range(n,0,-1):\n",
    "            temp=str(i-j)\n",
    "            lst.append(temp.zfill(max_len))\n",
    "        for x in range(n+1):\n",
    "            temp=str(i+x)\n",
    "            lst.append(temp.zfill(max_len))\n",
    "        result.append(\" \".join(lst))\n",
    "    return result"
   ]
  },
  {
   "cell_type": "code",
   "execution_count": null,
   "metadata": {
    "tags": []
   },
   "outputs": [],
   "source": []
  },
  {
   "cell_type": "code",
   "execution_count": 20,
   "metadata": {
    "deletable": false,
    "editable": false
   },
   "outputs": [
    {
     "data": {
      "text/html": [
       "<p><strong><pre style='display: inline;'>q4</pre></strong> passed!</p>"
      ],
      "text/plain": [
       "q4 results: All test cases passed!"
      ]
     },
     "execution_count": 20,
     "metadata": {},
     "output_type": "execute_result"
    }
   ],
   "source": [
    "grader.check(\"q4\")"
   ]
  },
  {
   "cell_type": "markdown",
   "metadata": {},
   "source": [
    "\n",
    "[Recall](https://docs.python.org/3/tutorial/inputoutput.html#reading-and-writing-files) that the built-in function `open` takes in a file path and returns *a file object* (sometimes called a *file handle*). Below are a few properties of file objects:\n",
    "\n",
    "* `open(path)` opens the file at location `path` for reading.\n",
    "* `open(path)` is an *iterable*, which contains successive lines of the file.\n",
    "* Once a file object is opened, after use it should be closed to avoid memory leaks. To ensure a file is closed once done, you should use a *context manager* as follows:\n",
    "```\n",
    "with open(path) as fh:\n",
    "    for line in fh:\n",
    "        process_line(line)\n",
    "```\n",
    "* To read the entire file into a string, use the read method:\n",
    "```\n",
    "with open(path) as fh:\n",
    "    s = fh.read()\n",
    "```\n",
    "However, you should be careful when reading an entire file into memory that the file isn't too big! *You should avoid this whenever possible!*"
   ]
  },
  {
   "cell_type": "markdown",
   "metadata": {},
   "source": [
    "**Question 5 (Reading Files):**\n",
    "\n",
    "Create a function `last_chars` that takes a file object and returns a string consisting of the last character of each line.\n",
    "\n",
    "*Remark:* A newline is the \"delimiter\" of the lines of a file, and doesn't count as part of the line (as the tests imply). Every other character is part of the line. For more info on this, see [the interpretation](https://en.wikipedia.org/wiki/Newline#Interpretation) of files as a 'newline delimited variables' file."
   ]
  },
  {
   "cell_type": "code",
   "execution_count": 21,
   "metadata": {
    "tags": []
   },
   "outputs": [],
   "source": [
    "def last_chars(fh):\n",
    "    \"\"\"\n",
    "    last_chars takes a file object and returns a \n",
    "    string consisting of the last character of the line.\n",
    "    :param fh: a file object to read from.\n",
    "    :returns: a string of last characters from fh\n",
    "    :Example:\n",
    "    >>> fp = os.path.join('data', 'chars.txt')\n",
    "    >>> last_chars(open(fp))\n",
    "    'hrg'\n",
    "    \"\"\"\n",
    "    result=\"\"\n",
    "    with open(fh) as f:\n",
    "        for line in f:\n",
    "            result+=line.strip()[-1]\n",
    "    return result"
   ]
  },
  {
   "cell_type": "code",
   "execution_count": 22,
   "metadata": {
    "tags": []
   },
   "outputs": [
    {
     "ename": "FileNotFoundError",
     "evalue": "[Errno 2] No such file or directory: 'data\\\\chars.txt'",
     "output_type": "error",
     "traceback": [
      "\u001b[1;31m---------------------------------------------------------------------------\u001b[0m",
      "\u001b[1;31mFileNotFoundError\u001b[0m                         Traceback (most recent call last)",
      "\u001b[1;32m<ipython-input-22-6149f2e2f8ff>\u001b[0m in \u001b[0;36m<module>\u001b[1;34m\u001b[0m\n\u001b[0;32m      1\u001b[0m \u001b[0mfp\u001b[0m \u001b[1;33m=\u001b[0m \u001b[0mos\u001b[0m\u001b[1;33m.\u001b[0m\u001b[0mpath\u001b[0m\u001b[1;33m.\u001b[0m\u001b[0mjoin\u001b[0m\u001b[1;33m(\u001b[0m\u001b[1;34m'data'\u001b[0m\u001b[1;33m,\u001b[0m \u001b[1;34m'chars.txt'\u001b[0m\u001b[1;33m)\u001b[0m\u001b[1;33m\u001b[0m\u001b[1;33m\u001b[0m\u001b[0m\n\u001b[1;32m----> 2\u001b[1;33m \u001b[0mlast_chars\u001b[0m\u001b[1;33m(\u001b[0m\u001b[0mopen\u001b[0m\u001b[1;33m(\u001b[0m\u001b[0mfp\u001b[0m\u001b[1;33m)\u001b[0m\u001b[1;33m)\u001b[0m\u001b[1;33m\u001b[0m\u001b[1;33m\u001b[0m\u001b[0m\n\u001b[0m",
      "\u001b[1;31mFileNotFoundError\u001b[0m: [Errno 2] No such file or directory: 'data\\\\chars.txt'"
     ]
    }
   ],
   "source": [
    "fp = os.path.join('data', 'chars.txt')\n",
    "last_chars(open(fp))"
   ]
  },
  {
   "cell_type": "code",
   "execution_count": null,
   "metadata": {
    "deletable": false,
    "editable": false
   },
   "outputs": [],
   "source": [
    "grader.check(\"q5\")"
   ]
  },
  {
   "cell_type": "markdown",
   "metadata": {},
   "source": [
    "## Part 3: `numpy` exercises\n",
    "\n",
    "For an introduction to arrays and `numpy` recall the relevant section of [DSC 10](https://www.inferentialthinking.com/chapters/05/1/Arrays.html)."
   ]
  },
  {
   "cell_type": "markdown",
   "metadata": {},
   "source": [
    "**Question 6 (Basic Arrays):**\n",
    "\n",
    "Create the following functions using `numpy` methods satisfying the requirements given in each part. Your solutions should **not** contain any loops or list comprehensions.\n",
    "\n",
    "* A function `arr_1` that takes in a `numpy` array and adds to each element the square-root of the index of each element.\n",
    "\n",
    "* A function `arr_2` that takes in a `numpy` array of integers and returns a boolean array (i.e. an array of booleans) whose `ith` element is `True` if and only if the `ith` element of the input array is a perfect square.\n",
    "\n",
    "* A function `arr_3` that takes in a `numpy` array of [stock prices](https://en.wikipedia.org/wiki/Stock) per share on successive days in USD and returns an array of growth rates. That is, the `ith` number of the output array should contain the rate of growth in stock price between the $i^{th}$ day to the $(i+1)^{th}$ day. The growth rate should be a proportion, rounded to the nearest hundredth.\n",
    "\n",
    "* Suppose:\n",
    "    - `A` is a `numpy` array of [stock prices](https://en.wikipedia.org/wiki/Stock) per share for a company on successive days in USD \n",
    "    - You start each day with \\\\$20 to buy as much stock as possible on that day. \n",
    "    - Any money left-over after a given day is saved for possibly buying stock on a future day. \n",
    "    - Create a function `arr_4` that takes in `A` and returns the day on which you can buy at least one share from 'left-over' money. If this never happens, return `-1`. The first stock purchase occurs on day 0. *Note: you cannot buy fractions of a share of stock*.\n",
    "    \n",
    "    - *Example:* If the stock price is \\\\$3 every day, then the answer is 'day 1':\n",
    "        - day 0: buy six stocks with \\\\$20, \\\\$2 are added to the leftover, and your total leftover is currently \\\\$2,  so you can't buy one extra share\n",
    "        - day 1: buy six stocks with \\\\$20, another \\\\$2 are added to the leftover, and your total leftover is now \\\\$4, so you can now buy one extra share, return day1.\n",
    "    - Hint: `np.cumsum` may be helpful for this question"
   ]
  },
  {
   "cell_type": "code",
   "execution_count": null,
   "metadata": {
    "tags": []
   },
   "outputs": [],
   "source": []
  },
  {
   "cell_type": "code",
   "execution_count": null,
   "metadata": {
    "tags": []
   },
   "outputs": [],
   "source": []
  },
  {
   "cell_type": "code",
   "execution_count": null,
   "metadata": {
    "tags": []
   },
   "outputs": [],
   "source": []
  },
  {
   "cell_type": "code",
   "execution_count": 61,
   "metadata": {},
   "outputs": [],
   "source": [
    "# don't change this cell -- it is needed for the tests to work\n",
    "x = 42\n",
    "A_1 = np.array([2, 4, 6, 7])\n",
    "out_1 = arr_1(A_1)\n",
    "\n",
    "fp = os.path.join('data', 'stocks.csv')\n",
    "stocks = np.array([float(x) for x in open(fp)])\n",
    "out_3_stocks = arr_3(stocks)\n",
    "\n",
    "A_4 = np.array([3, 3, 3, 3])\n",
    "out_4 = arr_4(A_4)"
   ]
  },
  {
   "cell_type": "code",
   "execution_count": null,
   "metadata": {
    "deletable": false,
    "editable": false
   },
   "outputs": [],
   "source": [
    "grader.check(\"q6\")"
   ]
  },
  {
   "cell_type": "markdown",
   "metadata": {},
   "source": [
    "## Part 4: Getting Started with Pandas\n",
    "\n",
    "The following questions will help you get comfortable with Pandas. These questions are similar to questions on tables in DSC 10; review the [textbook](https://www.inferentialthinking.com) as necessary. As always for Pandas questions:\n",
    "1. Avoid writing loops through the rows of the dataset to do the problem, and\n",
    "2. Test the output/correctness of your code with the help of the dataset given, but be sure your code will also run on data \"like\" the dataset given (sampling rows using the `.sample` method is useful for this!)."
   ]
  },
  {
   "cell_type": "markdown",
   "metadata": {},
   "source": [
    "**Question 7 (Pandas basics):**   \n",
    "\n",
    "Read in the file `salary.csv` in the `data` directory which contains the salary information for the 2017-2018 NBA season and understand the dataset by answering the following questions. To do this, create a function `salary_stats` that takes in a dataframe like `salary` and returns a series containing the following statistics:\n",
    "* The number of players (`num_players`).\n",
    "* The number of teams (`num_teams`).\n",
    "* The total salary amount over the season (`total_salary`).\n",
    "* The name of the player with the highest salary; there are no ties (`highest_salary`).\n",
    "* The average salary of the Boston Celtics ('BOS'), rounded to the nearest hundredth (`avg_bos`).\n",
    "* The name of player and the name of the team whose salary is the third-lowest, separated by a comma and a space (e.g. John Doe, MIA); if there are ties, return the first based on alphabetical order (`third_lowest`).\n",
    "* Whether there are any duplicate last names (True: yes, False: no), as a boolean (`duplicates`).\n",
    "* The total salary of the team that has the highest paid player (`total_highest`).\n",
    "\n",
    "The index of the output series are given in parenthesis above.\n",
    "\n",
    "*Note*: Your function should work on a dataset of the same format that contains information from other years. You may assume that none of the answers involving ranking returns a tie.\n",
    "\n",
    "*Note*: To make sure your function still runs, in the event that one of the 8 parts throws an exception (e.g. due to a very incorrect answer), use `Try... Except...` structures. Here's a useful link: https://www.w3schools.com/python/python_try_except.asp"
   ]
  },
  {
   "cell_type": "code",
   "execution_count": null,
   "metadata": {
    "tags": []
   },
   "outputs": [],
   "source": []
  },
  {
   "cell_type": "code",
   "execution_count": null,
   "metadata": {
    "tags": []
   },
   "outputs": [],
   "source": []
  },
  {
   "cell_type": "code",
   "execution_count": null,
   "metadata": {
    "tags": []
   },
   "outputs": [],
   "source": []
  },
  {
   "cell_type": "code",
   "execution_count": 89,
   "metadata": {
    "tags": []
   },
   "outputs": [],
   "source": [
    "# do not edit this cell -- it is needed for the tests\n",
    "salary_fp = os.path.join('data', 'salary.csv')\n",
    "salary = pd.read_csv(salary_fp)\n",
    "stats = salary_stats(salary)\n",
    "\n",
    "salary_sample = pd.read_csv('data/salary_sample.csv')\n",
    "sample_stats = salary_stats(salary_sample)"
   ]
  },
  {
   "cell_type": "code",
   "execution_count": null,
   "metadata": {
    "deletable": false,
    "editable": false
   },
   "outputs": [],
   "source": [
    "grader.check(\"q7\")"
   ]
  },
  {
   "cell_type": "markdown",
   "metadata": {},
   "source": [
    "## Part 5: CSV Files"
   ]
  },
  {
   "cell_type": "markdown",
   "metadata": {},
   "source": [
    "**Question 8 (Reading malformed csv files):**\n",
    "\n",
    "`malformed.csv` contains a file of comma-separated values, containing the following fields:\n",
    "\n",
    "\n",
    "|column name|description|type|\n",
    "|---|---|---|\n",
    "|first|first name of person|str|\n",
    "|last|last name of person|str|\n",
    "|weight|weight of person (lbs)|float|\n",
    "|height|height of person (in)|float|\n",
    "|geo|location of person; comma-separated latitude/longitude|str|\n",
    "\n",
    "Unfortunately, the entries contains errors that cause the Pandas `read_csv` function to fail parsing the file with the default settings. Instead, you must read in the file manually using Python's built-in `open` function.\n",
    "\n",
    "Clean the csv file into a Pandas DataFrame with columns as described in the table above, by creating a function called `parse_malformed` that takes in a file path and returns a parsed, properly-typed dataframe. The dataframe should contain columns as described in the table above (with the specified types); it should agree with `pd.read_csv` when the lines are not malformed.\n",
    "\n",
    "\n",
    "*Note:* Assume that the given csv file is a sample of a larger file; you will be graded against a **different** sample of the larger file that has the same type of parsing errors. That is, you should **not** hard-code your cleaning of the data to specific errors on specific lines in the data."
   ]
  },
  {
   "cell_type": "code",
   "execution_count": null,
   "metadata": {
    "tags": []
   },
   "outputs": [],
   "source": []
  },
  {
   "cell_type": "code",
   "execution_count": null,
   "metadata": {
    "tags": []
   },
   "outputs": [],
   "source": []
  },
  {
   "cell_type": "code",
   "execution_count": null,
   "metadata": {
    "tags": []
   },
   "outputs": [],
   "source": []
  },
  {
   "cell_type": "code",
   "execution_count": 105,
   "metadata": {
    "tags": []
   },
   "outputs": [],
   "source": [
    "# do not edit -- needed for tests\n",
    "fp = os.path.join('data', 'malformed.csv')\n",
    "cols = ['first', 'last', 'weight', 'height', 'geo']\n",
    "df = parse_malformed(fp)\n",
    "dg = pd.read_csv(fp, nrows=4, skiprows=10, names=cols)"
   ]
  },
  {
   "cell_type": "code",
   "execution_count": null,
   "metadata": {
    "deletable": false,
    "editable": false
   },
   "outputs": [],
   "source": [
    "grader.check(\"q8\")"
   ]
  },
  {
   "cell_type": "markdown",
   "metadata": {},
   "source": [
    "## Congratulations! You're done!\n",
    "\n",
    "* Submit your `.py` file to Gradescope. Note that you only need to submit the `.py` file; this notebook should not be uploaded. Make sure that all of your work is in the `.py` file and not here by running the doctests: `python -m doctest lab.py`."
   ]
  },
  {
   "cell_type": "markdown",
   "metadata": {
    "deletable": false,
    "editable": false
   },
   "source": [
    "---\n",
    "\n",
    "To double-check your work, the cell below will rerun all of the autograder tests."
   ]
  },
  {
   "cell_type": "code",
   "execution_count": null,
   "metadata": {
    "deletable": false,
    "editable": false
   },
   "outputs": [],
   "source": [
    "grader.check_all()"
   ]
  }
 ],
 "metadata": {
  "celltoolbar": "Tags",
  "kernel_info": {
   "name": "python3"
  },
  "kernelspec": {
   "display_name": "Python 3",
   "language": "python",
   "name": "python3"
  },
  "language_info": {
   "codemirror_mode": {
    "name": "ipython",
    "version": 3
   },
   "file_extension": ".py",
   "mimetype": "text/x-python",
   "name": "python",
   "nbconvert_exporter": "python",
   "pygments_lexer": "ipython3",
   "version": "3.8.8"
  },
  "nteract": {
   "version": "0.15.0"
  },
  "otter": {
   "tests": {
    "q0": {
     "name": "q0",
     "points": 0,
     "suites": [
      {
       "cases": [
        {
         "code": ">>> consecutive_ints([5,3,6,4,9,8])\nTrue",
         "hidden": false,
         "locked": false
        },
        {
         "code": ">>> consecutive_ints([1,3,5,7,9])\nFalse",
         "hidden": false,
         "locked": false
        },
        {
         "code": ">>> consecutive_ints([])\nFalse",
         "hidden": false,
         "locked": false
        }
       ],
       "scored": true,
       "setup": "",
       "teardown": "",
       "type": "doctest"
      }
     ]
    },
    "q1": {
     "name": "q1",
     "points": null,
     "suites": [
      {
       "cases": [
        {
         "code": ">>> median_vs_average([6, 5, 4, 3, 2])\nTrue",
         "hidden": false,
         "locked": false
        },
        {
         "code": ">>> median_vs_average([50, 20, 15, 40])\nFalse",
         "hidden": false,
         "locked": false
        },
        {
         "code": ">>> median_vs_average([1, 2, 3, 4])\nTrue",
         "hidden": false,
         "locked": false
        },
        {
         "code": ">>> median_vs_average([0, -1, 1, 100])\nFalse",
         "hidden": false,
         "locked": false
        }
       ],
       "scored": true,
       "setup": "",
       "teardown": "",
       "type": "doctest"
      }
     ]
    },
    "q2": {
     "name": "q2",
     "points": null,
     "suites": [
      {
       "cases": [
        {
         "code": ">>> same_diff_ints([5,3,1,5,9,8])\nTrue",
         "hidden": false,
         "locked": false
        },
        {
         "code": ">>> same_diff_ints([1,3,5,7,9])\nFalse",
         "hidden": false,
         "locked": false
        }
       ],
       "scored": true,
       "setup": "",
       "teardown": "",
       "type": "doctest"
      }
     ]
    },
    "q3": {
     "name": "q3",
     "points": null,
     "suites": [
      {
       "cases": [
        {
         "code": ">>> n_prefixes('Data!', 3)\n'DatDaD'",
         "hidden": false,
         "locked": false
        },
        {
         "code": ">>> n_prefixes('Marina', 4)\n'MariMarMaM'",
         "hidden": false,
         "locked": false
        },
        {
         "code": ">>> n_prefixes('aaron', 2)\n'aaa'",
         "hidden": false,
         "locked": false
        },
        {
         "code": ">>> n_prefixes('Justin', 4)\n'JustJusJuJ'",
         "hidden": false,
         "locked": false
        }
       ],
       "scored": true,
       "setup": "",
       "teardown": "",
       "type": "doctest"
      }
     ]
    },
    "q4": {
     "name": "q4",
     "points": null,
     "suites": [
      {
       "cases": [
        {
         "code": ">>> exploded_numbers([3, 4], 2) \n['1 2 3 4 5', '2 3 4 5 6']",
         "hidden": false,
         "locked": false
        },
        {
         "code": ">>> exploded_numbers([3, 8, 15], 2)\n['01 02 03 04 05', '06 07 08 09 10', '13 14 15 16 17']",
         "hidden": false,
         "locked": false
        }
       ],
       "scored": true,
       "setup": "",
       "teardown": "",
       "type": "doctest"
      }
     ]
    },
    "q5": {
     "name": "q5",
     "points": null,
     "suites": [
      {
       "cases": [
        {
         "code": ">>> fp = os.path.join('data', 'chars.txt')\n>>> last_chars(open(fp))\n'hrg'",
         "hidden": false,
         "locked": false
        }
       ],
       "scored": true,
       "setup": "",
       "teardown": "",
       "type": "doctest"
      }
     ]
    },
    "q6": {
     "name": "q6",
     "points": null,
     "suites": [
      {
       "cases": [
        {
         "code": ">>> isinstance(out_1, np.ndarray)\nTrue",
         "hidden": false,
         "locked": false
        },
        {
         "code": ">>> np.all(out_1 >= A_1)\nTrue",
         "hidden": false,
         "locked": false
        },
        {
         "code": ">>> isinstance(out_3_stocks, np.ndarray)\nTrue",
         "hidden": false,
         "locked": false
        },
        {
         "code": ">>> out_3_stocks.dtype == np.dtype('float')\nTrue",
         "hidden": false,
         "locked": false
        },
        {
         "code": ">>> out_3_stocks.max() == 0.03\nTrue",
         "hidden": false,
         "locked": false
        },
        {
         "code": ">>> import numbers\n>>> isinstance(out_4, numbers.Integral)\nTrue",
         "hidden": false,
         "locked": false
        },
        {
         "code": ">>> out_4 == 1\nTrue",
         "hidden": false,
         "locked": false
        }
       ],
       "scored": true,
       "setup": "",
       "teardown": "",
       "type": "doctest"
      }
     ]
    },
    "q7": {
     "name": "q7",
     "points": null,
     "suites": [
      {
       "cases": [
        {
         "code": ">>> isinstance(stats, pd.Series)\nTrue",
         "hidden": false,
         "locked": false
        },
        {
         "code": ">>> 'total_highest' in stats.index\nTrue",
         "hidden": false,
         "locked": false
        },
        {
         "code": ">>> isinstance(stats.loc['duplicates'], bool)\nTrue",
         "hidden": false,
         "locked": false
        }
       ],
       "scored": true,
       "setup": "",
       "teardown": "",
       "type": "doctest"
      }
     ]
    },
    "q8": {
     "name": "q8",
     "points": null,
     "suites": [
      {
       "cases": [
        {
         "code": ">>> cols = ['first', 'last', 'weight', 'height', 'geo']\n>>> list(df.columns) == cols\nTrue",
         "hidden": false,
         "locked": false,
         "points": 1
        },
        {
         "code": ">>> df['last'].dtype == np.dtype('O')\nTrue",
         "hidden": false,
         "locked": false,
         "points": 1
        },
        {
         "code": ">>> df['height'].dtype == np.dtype('float64')\nTrue",
         "hidden": false,
         "locked": false,
         "points": 1
        },
        {
         "code": ">>> df['geo'].str.contains(',').all()\nTrue",
         "hidden": false,
         "locked": false,
         "points": 1
        },
        {
         "code": ">>> len(df) == 100\nTrue",
         "hidden": false,
         "locked": false,
         "points": 1
        },
        {
         "code": ">>> dg.index = range(9, 13)\n>>> (dg == df.iloc[9:13]).all().all()\nTrue",
         "hidden": false,
         "locked": false,
         "points": 1
        }
       ],
       "scored": true,
       "setup": "",
       "teardown": "",
       "type": "doctest"
      }
     ]
    }
   }
  }
 },
 "nbformat": 4,
 "nbformat_minor": 2
}
